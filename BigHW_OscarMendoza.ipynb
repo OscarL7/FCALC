{
 "cells": [
  {
   "cell_type": "code",
   "execution_count": 142,
   "metadata": {},
   "outputs": [],
   "source": [
    "import fcalc\n",
    "import pandas as pd\n",
    "import numpy as np\n",
    "from sklearn.model_selection import train_test_split\n",
    "from sklearn.metrics import accuracy_score, f1_score\n",
    "from sklearn.model_selection import cross_val_score"
   ]
  },
  {
   "cell_type": "markdown",
   "metadata": {},
   "source": [
    "# Titanic Dataset\n"
   ]
  },
  {
   "cell_type": "code",
   "execution_count": 143,
   "metadata": {},
   "outputs": [
    {
     "data": {
      "text/html": [
       "<div>\n",
       "<style scoped>\n",
       "    .dataframe tbody tr th:only-of-type {\n",
       "        vertical-align: middle;\n",
       "    }\n",
       "\n",
       "    .dataframe tbody tr th {\n",
       "        vertical-align: top;\n",
       "    }\n",
       "\n",
       "    .dataframe thead th {\n",
       "        text-align: right;\n",
       "    }\n",
       "</style>\n",
       "<table border=\"1\" class=\"dataframe\">\n",
       "  <thead>\n",
       "    <tr style=\"text-align: right;\">\n",
       "      <th></th>\n",
       "      <th>Survived</th>\n",
       "      <th>Sex</th>\n",
       "      <th>child</th>\n",
       "      <th>adult</th>\n",
       "      <th>Class_1</th>\n",
       "      <th>Class_2</th>\n",
       "      <th>Class_3</th>\n",
       "    </tr>\n",
       "  </thead>\n",
       "  <tbody>\n",
       "    <tr>\n",
       "      <th>0</th>\n",
       "      <td>False</td>\n",
       "      <td>0</td>\n",
       "      <td>0</td>\n",
       "      <td>1</td>\n",
       "      <td>0</td>\n",
       "      <td>0</td>\n",
       "      <td>1</td>\n",
       "    </tr>\n",
       "    <tr>\n",
       "      <th>1</th>\n",
       "      <td>True</td>\n",
       "      <td>1</td>\n",
       "      <td>0</td>\n",
       "      <td>1</td>\n",
       "      <td>0</td>\n",
       "      <td>0</td>\n",
       "      <td>1</td>\n",
       "    </tr>\n",
       "    <tr>\n",
       "      <th>2</th>\n",
       "      <td>False</td>\n",
       "      <td>0</td>\n",
       "      <td>0</td>\n",
       "      <td>1</td>\n",
       "      <td>0</td>\n",
       "      <td>1</td>\n",
       "      <td>0</td>\n",
       "    </tr>\n",
       "    <tr>\n",
       "      <th>3</th>\n",
       "      <td>False</td>\n",
       "      <td>0</td>\n",
       "      <td>0</td>\n",
       "      <td>1</td>\n",
       "      <td>0</td>\n",
       "      <td>0</td>\n",
       "      <td>1</td>\n",
       "    </tr>\n",
       "    <tr>\n",
       "      <th>4</th>\n",
       "      <td>True</td>\n",
       "      <td>1</td>\n",
       "      <td>0</td>\n",
       "      <td>1</td>\n",
       "      <td>0</td>\n",
       "      <td>0</td>\n",
       "      <td>1</td>\n",
       "    </tr>\n",
       "  </tbody>\n",
       "</table>\n",
       "</div>"
      ],
      "text/plain": [
       "   Survived  Sex  child  adult  Class_1  Class_2  Class_3\n",
       "0     False    0      0      1        0        0        1\n",
       "1      True    1      0      1        0        0        1\n",
       "2     False    0      0      1        0        1        0\n",
       "3     False    0      0      1        0        0        1\n",
       "4      True    1      0      1        0        0        1"
      ]
     },
     "execution_count": 143,
     "metadata": {},
     "output_type": "execute_result"
    }
   ],
   "source": [
    "data = pd.read_csv(r'https://raw.githubusercontent.com/OscarL7/Big-Homework-OSDA/main/titanic.csv')\n",
    "data['Sex'] = data['Sex'].map({'male': 0, 'female': 1})\n",
    "data['Embarked'] = data['Embarked'].map({'S': 0, 'C': 1, 'Q': 2})\n",
    "columns_to_drop = ['PassengerId', 'Name', 'Ticket', 'Cabin', 'Fare', 'Embarked']\n",
    "data = data.drop(columns=columns_to_drop)\n",
    "mean_age = data['Age'].mean()\n",
    "\n",
    "# Replace NaN values with the mean age\n",
    "data['Age'].fillna(mean_age, inplace=True)\n",
    "\n",
    "# Round the age values in the column\n",
    "data['Age'] = data['Age'].round()\n",
    "\n",
    "data['Survived'] = [x == 1 for x in data['Survived']]\n",
    "\n",
    "data['child'] = data['Age'].apply(lambda x: 1 if 0 <= x <= 18 else 0)\n",
    "data['adult'] = data['Age'].apply(lambda x: 1 if 19 <= x <= 76 else 0)\n",
    "\n",
    "\n",
    "\n",
    "data['Class_1'] = data['Pclass'].apply(lambda x: 1 if x == 1 else 0)\n",
    "data['Class_2'] = data['Pclass'].apply(lambda x: 1 if x == 2 else 0)\n",
    "data['Class_3'] = data['Pclass'].apply(lambda x: 1 if x == 3 else 0)\n",
    "\n",
    "bdata = data.drop(['Age', 'Pclass', 'SibSp', 'Parch'], axis=1)\n",
    "bdata.head()"
   ]
  },
  {
   "cell_type": "code",
   "execution_count": 144,
   "metadata": {},
   "outputs": [],
   "source": [
    "nbdata = pd.read_csv(r'https://raw.githubusercontent.com/OscarL7/Big-Homework-OSDA/main/titanic.csv')\n",
    "nbdata['Sex'] = nbdata['Sex'].map({'male': 0, 'female': 1})\n",
    "nbdata['Embarked'] = nbdata['Embarked'].map({'S': 0, 'C': 1, 'Q': 2})\n",
    "columns_to_drop = ['PassengerId', 'Name', 'Ticket', 'Cabin', 'Fare', 'Embarked', 'Age', 'Pclass', 'SibSp', 'Parch']\n",
    "nbdata = nbdata.drop(columns=columns_to_drop)\n"
   ]
  },
  {
   "cell_type": "code",
   "execution_count": 145,
   "metadata": {},
   "outputs": [],
   "source": [
    "x1 = bdata.drop('Survived', axis=1)\n",
    "y1 = bdata['Survived']\n",
    "\n",
    "x1_train, x1_test, y1_train, y1_test = train_test_split(x1, y1, test_size=0.3, random_state=42)"
   ]
  },
  {
   "cell_type": "code",
   "execution_count": 146,
   "metadata": {},
   "outputs": [],
   "source": [
    "#Binarized Binary Classifier\n",
    "\n",
    "bin_cls = fcalc.classifier.BinarizedBinaryClassifier(x1_train.values, y1_train.to_numpy(), method=\"standard\", alpha=0)"
   ]
  },
  {
   "cell_type": "code",
   "execution_count": 147,
   "metadata": {},
   "outputs": [
    {
     "name": "stdout",
     "output_type": "stream",
     "text": [
      "[0. 1. 0. 0. 1. 0. 1. 0. 1. 0. 0. 1. 1. 1. 0. 0. 1. 0. 0. 0. 0. 0. 1. 0.\n",
      " 1. 1. 1. 0. 0. 0. 0. 1. 1. 0. 1. 0. 1. 0. 1. 0. 1. 1. 0. 0. 0. 0. 1. 1.\n",
      " 1. 0. 0. 1. 1. 0. 0. 1. 0. 0. 1. 0. 0. 0. 1. 0. 1. 0. 0. 0. 0. 0. 0. 0.\n",
      " 0. 1. 0. 1. 0. 1. 1. 0. 0. 1. 0. 1. 0. 0. 0. 0. 0. 0. 0. 0. 0. 0. 0. 1.\n",
      " 0. 1. 0. 0. 0. 0. 0. 0. 1. 1. 0. 0. 0. 1. 0. 0. 0. 0. 1. 0. 1. 0. 1. 1.\n",
      " 0. 0. 0. 0. 0. 0.]\n"
     ]
    }
   ],
   "source": [
    "bin_cls.predict(x1_test.values)\n",
    "print(bin_cls.predictions)"
   ]
  },
  {
   "cell_type": "code",
   "execution_count": 148,
   "metadata": {},
   "outputs": [
    {
     "name": "stdout",
     "output_type": "stream",
     "text": [
      "0.9841269841269841\n",
      "0.9761904761904763\n"
     ]
    }
   ],
   "source": [
    "print(accuracy_score(y1_test, bin_cls.predictions))\n",
    "print(f1_score(y1_test, bin_cls.predictions)) "
   ]
  },
  {
   "cell_type": "markdown",
   "metadata": {},
   "source": [
    "## Pattern Binary Classifier"
   ]
  },
  {
   "cell_type": "code",
   "execution_count": 149,
   "metadata": {},
   "outputs": [
    {
     "name": "stdout",
     "output_type": "stream",
     "text": [
      "   Survived  Pclass  Sex   Age  SibSp\n",
      "0         0       3    0  34.0      0\n",
      "1         1       3    1  47.0      1\n",
      "2         0       2    0  62.0      0\n",
      "3         0       3    0  27.0      0\n",
      "4         1       3    1  22.0      1\n"
     ]
    }
   ],
   "source": [
    "nbdata = pd.read_csv(r'https://raw.githubusercontent.com/OscarL7/Big-Homework-OSDA/main/titanic.csv')\n",
    "nbdata['Sex'] = nbdata['Sex'].map({'male': 0, 'female': 1})\n",
    "nbdata['Embarked'] = nbdata['Embarked'].map({'S': 0, 'C': 1, 'Q': 2})\n",
    "columns_to_drop = ['PassengerId', 'Name', 'Ticket', 'Cabin', 'Fare', 'Embarked', 'Parch']\n",
    "nbdata = nbdata.drop(columns=columns_to_drop)\n",
    "mean_age = nbdata['Age'].mean()\n",
    "\n",
    "# Replace NaN values with the mean age\n",
    "nbdata['Age'].fillna(mean_age, inplace=True)\n",
    "\n",
    "# Round the age values in the column\n",
    "nbdata['Age'] = nbdata['Age'].round()\n",
    "\n",
    "print(nbdata.head())"
   ]
  },
  {
   "cell_type": "code",
   "execution_count": 150,
   "metadata": {},
   "outputs": [],
   "source": [
    "x1 = nbdata.drop('Survived', axis=1)\n",
    "y1 = nbdata['Survived']\n",
    "\n",
    "x1_train, x1_test, y1_train, y1_test = train_test_split(x1, y1, test_size=0.3, random_state=42)        "
   ]
  },
  {
   "cell_type": "code",
   "execution_count": 151,
   "metadata": {},
   "outputs": [],
   "source": [
    "# Pattern Binary Classifier\n",
    "\n",
    "pat_cls = fcalc.classifier.PatternBinaryClassifier(x1_train.values, y1_train.to_numpy(), \n",
    "                                             categorical=np.arange(x1_train.shape[1]))   "
   ]
  },
  {
   "cell_type": "code",
   "execution_count": 152,
   "metadata": {},
   "outputs": [],
   "source": [
    "pat_cls.predict(x1_test.values)"
   ]
  },
  {
   "cell_type": "code",
   "execution_count": 153,
   "metadata": {},
   "outputs": [
    {
     "name": "stdout",
     "output_type": "stream",
     "text": [
      "1.0\n",
      "1.0\n"
     ]
    }
   ],
   "source": [
    "print(accuracy_score(y1_test, pat_cls.predictions))\n",
    "print(f1_score(y1_test, pat_cls.predictions))"
   ]
  },
  {
   "cell_type": "markdown",
   "metadata": {},
   "source": [
    "# Heart Disease Dataset"
   ]
  },
  {
   "cell_type": "code",
   "execution_count": 154,
   "metadata": {},
   "outputs": [
    {
     "data": {
      "text/html": [
       "<div>\n",
       "<style scoped>\n",
       "    .dataframe tbody tr th:only-of-type {\n",
       "        vertical-align: middle;\n",
       "    }\n",
       "\n",
       "    .dataframe tbody tr th {\n",
       "        vertical-align: top;\n",
       "    }\n",
       "\n",
       "    .dataframe thead th {\n",
       "        text-align: right;\n",
       "    }\n",
       "</style>\n",
       "<table border=\"1\" class=\"dataframe\">\n",
       "  <thead>\n",
       "    <tr style=\"text-align: right;\">\n",
       "      <th></th>\n",
       "      <th>Sex</th>\n",
       "      <th>HeartDisease</th>\n",
       "      <th>RestingBP0_50</th>\n",
       "      <th>RestingBP51_100</th>\n",
       "      <th>RestingBP101_150</th>\n",
       "      <th>RestingBP151_200</th>\n",
       "      <th>Cholesterol0_200</th>\n",
       "      <th>Cholesterol201_240</th>\n",
       "      <th>Cholesterol241_603</th>\n",
       "      <th>MaxHR60_110</th>\n",
       "      <th>MaxHR111_120</th>\n",
       "      <th>MaxHR121_170</th>\n",
       "      <th>MaxHR171_200</th>\n",
       "      <th>Age28_44</th>\n",
       "      <th>Age45_61</th>\n",
       "      <th>Age61_77</th>\n",
       "    </tr>\n",
       "  </thead>\n",
       "  <tbody>\n",
       "    <tr>\n",
       "      <th>0</th>\n",
       "      <td>1</td>\n",
       "      <td>False</td>\n",
       "      <td>0</td>\n",
       "      <td>0</td>\n",
       "      <td>1</td>\n",
       "      <td>0</td>\n",
       "      <td>0</td>\n",
       "      <td>0</td>\n",
       "      <td>1</td>\n",
       "      <td>0</td>\n",
       "      <td>0</td>\n",
       "      <td>0</td>\n",
       "      <td>1</td>\n",
       "      <td>1</td>\n",
       "      <td>0</td>\n",
       "      <td>0</td>\n",
       "    </tr>\n",
       "    <tr>\n",
       "      <th>1</th>\n",
       "      <td>0</td>\n",
       "      <td>True</td>\n",
       "      <td>0</td>\n",
       "      <td>0</td>\n",
       "      <td>0</td>\n",
       "      <td>1</td>\n",
       "      <td>1</td>\n",
       "      <td>0</td>\n",
       "      <td>0</td>\n",
       "      <td>0</td>\n",
       "      <td>0</td>\n",
       "      <td>1</td>\n",
       "      <td>0</td>\n",
       "      <td>0</td>\n",
       "      <td>1</td>\n",
       "      <td>0</td>\n",
       "    </tr>\n",
       "    <tr>\n",
       "      <th>2</th>\n",
       "      <td>1</td>\n",
       "      <td>False</td>\n",
       "      <td>0</td>\n",
       "      <td>0</td>\n",
       "      <td>1</td>\n",
       "      <td>0</td>\n",
       "      <td>0</td>\n",
       "      <td>0</td>\n",
       "      <td>1</td>\n",
       "      <td>1</td>\n",
       "      <td>0</td>\n",
       "      <td>0</td>\n",
       "      <td>0</td>\n",
       "      <td>1</td>\n",
       "      <td>0</td>\n",
       "      <td>0</td>\n",
       "    </tr>\n",
       "    <tr>\n",
       "      <th>3</th>\n",
       "      <td>0</td>\n",
       "      <td>True</td>\n",
       "      <td>0</td>\n",
       "      <td>0</td>\n",
       "      <td>1</td>\n",
       "      <td>0</td>\n",
       "      <td>0</td>\n",
       "      <td>1</td>\n",
       "      <td>0</td>\n",
       "      <td>1</td>\n",
       "      <td>0</td>\n",
       "      <td>0</td>\n",
       "      <td>0</td>\n",
       "      <td>0</td>\n",
       "      <td>1</td>\n",
       "      <td>0</td>\n",
       "    </tr>\n",
       "    <tr>\n",
       "      <th>4</th>\n",
       "      <td>1</td>\n",
       "      <td>False</td>\n",
       "      <td>0</td>\n",
       "      <td>0</td>\n",
       "      <td>1</td>\n",
       "      <td>0</td>\n",
       "      <td>1</td>\n",
       "      <td>0</td>\n",
       "      <td>0</td>\n",
       "      <td>0</td>\n",
       "      <td>0</td>\n",
       "      <td>1</td>\n",
       "      <td>0</td>\n",
       "      <td>0</td>\n",
       "      <td>1</td>\n",
       "      <td>0</td>\n",
       "    </tr>\n",
       "  </tbody>\n",
       "</table>\n",
       "</div>"
      ],
      "text/plain": [
       "   Sex  HeartDisease  RestingBP0_50  RestingBP51_100  RestingBP101_150   \n",
       "0    1         False              0                0                 1  \\\n",
       "1    0          True              0                0                 0   \n",
       "2    1         False              0                0                 1   \n",
       "3    0          True              0                0                 1   \n",
       "4    1         False              0                0                 1   \n",
       "\n",
       "   RestingBP151_200  Cholesterol0_200  Cholesterol201_240  Cholesterol241_603   \n",
       "0                 0                 0                   0                   1  \\\n",
       "1                 1                 1                   0                   0   \n",
       "2                 0                 0                   0                   1   \n",
       "3                 0                 0                   1                   0   \n",
       "4                 0                 1                   0                   0   \n",
       "\n",
       "   MaxHR60_110  MaxHR111_120  MaxHR121_170  MaxHR171_200  Age28_44  Age45_61   \n",
       "0            0             0             0             1         1         0  \\\n",
       "1            0             0             1             0         0         1   \n",
       "2            1             0             0             0         1         0   \n",
       "3            1             0             0             0         0         1   \n",
       "4            0             0             1             0         0         1   \n",
       "\n",
       "   Age61_77  \n",
       "0         0  \n",
       "1         0  \n",
       "2         0  \n",
       "3         0  \n",
       "4         0  "
      ]
     },
     "execution_count": 154,
     "metadata": {},
     "output_type": "execute_result"
    }
   ],
   "source": [
    "data2 = pd.read_csv(r'https://raw.githubusercontent.com/OscarL7/Big-Homework-OSDA/main/heart_diseases.csv')\n",
    "columns_to_remove = ['FastingBS', 'RestingECG', 'ExerciseAngina', 'Oldpeak', 'ST_Slope', 'ChestPainType']\n",
    "data2 = data2.drop(columns=columns_to_remove)\n",
    "data2['Sex'] = data2['Sex'].replace({'M': 1, 'F': 0})\n",
    "\n",
    "data2['RestingBP0_50'] = data2['RestingBP'].apply(lambda x: 1 if 0 <= x <= 50 else 0)\n",
    "data2['RestingBP51_100'] = data2['RestingBP'].apply(lambda x: 1 if 51 <= x <= 100 else 0)\n",
    "data2['RestingBP101_150'] = data2['RestingBP'].apply(lambda x: 1 if 101 <= x <= 150 else 0)\n",
    "data2['RestingBP151_200'] = data2['RestingBP'].apply(lambda x: 1 if 151 <= x <= 200 else 0)\n",
    "\n",
    "data2['Cholesterol0_200'] = data2['Cholesterol'].apply(lambda x: 1 if 0 <= x <= 200 else 0)\n",
    "data2['Cholesterol201_240'] = data2['Cholesterol'].apply(lambda x: 1 if 201 <= x <= 240 else 0)\n",
    "data2['Cholesterol241_603'] = data2['Cholesterol'].apply(lambda x: 1 if 241 <= x <= 603 else 0)\n",
    "\n",
    "data2['MaxHR60_110'] = data2['MaxHR'].apply(lambda x: 1 if 60 <= x <= 110 else 0)\n",
    "data2['MaxHR111_120'] = data2['MaxHR'].apply(lambda x: 1 if 111 <= x <= 120 else 0)\n",
    "data2['MaxHR121_170'] = data2['MaxHR'].apply(lambda x: 1 if 121 <= x <= 170 else 0)\n",
    "data2['MaxHR171_200'] = data2['MaxHR'].apply(lambda x: 1 if 171 <= x <= 200 else 0)\n",
    "\n",
    "data2['Age28_44'] = data2['Age'].apply(lambda x: 1 if 28 <= x <= 44 else 0)\n",
    "data2['Age45_61'] = data2['Age'].apply(lambda x: 1 if 45 <= x <= 61 else 0)\n",
    "data2['Age61_77'] = data2['Age'].apply(lambda x: 1 if 61 <= x <= 77 else 0)\n",
    "\n",
    "data2['HeartDisease'] = [x == 1 for x in data2['HeartDisease']]\n",
    "\n",
    "bdata2 = data2.drop(['RestingBP', 'Cholesterol', 'MaxHR', 'Age'], axis=1)\n",
    "\n",
    "bdata2.head()"
   ]
  },
  {
   "cell_type": "code",
   "execution_count": 155,
   "metadata": {},
   "outputs": [],
   "source": [
    "x2 = bdata2.drop('HeartDisease', axis=1)\n",
    "y2 = bdata2['HeartDisease']\n",
    "\n",
    "x2_train, x2_test, y2_train, y2_test = train_test_split(x2, y2, test_size=0.3, random_state=42)"
   ]
  },
  {
   "cell_type": "code",
   "execution_count": 156,
   "metadata": {},
   "outputs": [],
   "source": [
    "# Binarized Binary Classifier\n",
    "\n",
    "bin_cls = fcalc.classifier.BinarizedBinaryClassifier(x2_train.values, y2_train.to_numpy(), method=\"standard\",  alpha=0)"
   ]
  },
  {
   "cell_type": "code",
   "execution_count": 157,
   "metadata": {},
   "outputs": [
    {
     "name": "stdout",
     "output_type": "stream",
     "text": [
      "[0. 1. 1. 1. 1. 1. 1. 1. 0. 1. 1. 0. 0. 0. 1. 1. 0. 1. 0. 0. 0. 0. 0. 1.\n",
      " 1. 1. 1. 1. 0. 0. 1. 1. 0. 0. 0. 0. 1. 0. 1. 1. 0. 0. 1. 0. 1. 1. 0. 1.\n",
      " 1. 1. 1. 0. 1. 1. 1. 1. 0. 1. 1. 1. 1. 1. 0. 0. 1. 1. 1. 1. 1. 1. 1. 1.\n",
      " 0. 1. 1. 1. 1. 1. 1. 0. 1. 1. 1. 1. 1. 0. 1. 1. 0. 1. 1. 1. 1. 1. 1. 1.\n",
      " 1. 1. 1. 0. 0. 1. 0. 1. 1. 1. 0. 1. 1. 1. 1. 1. 1. 1. 0. 0. 1. 1. 1. 1.\n",
      " 1. 1. 1. 1. 1. 0. 0. 0. 0. 1. 1. 1. 1. 1. 1. 0. 1. 1. 0. 0. 1. 0. 1. 1.\n",
      " 1. 1. 0. 0. 1. 0. 0. 0. 0. 0. 1. 1. 1. 0. 1. 1. 1. 0. 1. 0. 0. 1. 1. 1.\n",
      " 1. 1. 1. 1. 0. 0. 1. 1. 1. 1. 1. 0. 0. 1. 0. 0. 0. 0. 1. 0. 1. 1. 1. 1.\n",
      " 1. 0. 1. 1. 1. 1. 1. 1. 1. 0. 1. 1. 1. 1. 0. 0. 1. 0. 1. 1. 1. 1. 0. 1.\n",
      " 1. 0. 0. 1. 0. 1. 0. 1. 1. 0. 0. 1. 1. 0. 1. 1. 1. 1. 1. 1. 1. 1. 1. 1.\n",
      " 1. 0. 0. 0. 0. 1. 1. 1. 0. 1. 0. 1. 1. 0. 1. 1. 1. 1. 1. 1. 0. 0. 0. 1.\n",
      " 1. 1. 1. 0. 0. 1. 1. 1. 0. 1. 1. 0.]\n"
     ]
    }
   ],
   "source": [
    "bin_cls.predict(x2_test.values)\n",
    "print(bin_cls.predictions)"
   ]
  },
  {
   "cell_type": "code",
   "execution_count": 158,
   "metadata": {},
   "outputs": [
    {
     "name": "stdout",
     "output_type": "stream",
     "text": [
      "0.6630434782608695\n",
      "0.7335243553008597\n"
     ]
    }
   ],
   "source": [
    "print(accuracy_score(y2_test, bin_cls.predictions))\n",
    "print(f1_score(y2_test, bin_cls.predictions))"
   ]
  },
  {
   "cell_type": "markdown",
   "metadata": {},
   "source": [
    "# Pattern Binary Classifier"
   ]
  },
  {
   "cell_type": "code",
   "execution_count": 159,
   "metadata": {},
   "outputs": [],
   "source": [
    "nbdata2 = pd.read_csv(r'https://raw.githubusercontent.com/OscarL7/Big-Homework-OSDA/main/heart_diseases.csv')\n",
    "columns_to_remove = ['FastingBS', 'RestingECG', 'ExerciseAngina', 'Oldpeak', 'ST_Slope', 'ChestPainType']\n",
    "nbdata2 = nbdata2.drop(columns=columns_to_remove)\n",
    "nbdata2['Sex'] = nbdata2['Sex'].replace({'M': 1, 'F': 0})\n",
    "\n",
    "x2 = bdata2.drop('HeartDisease', axis=1)\n",
    "y2 = bdata2['HeartDisease']\n",
    "\n",
    "x2_train, x2_test, y2_train, y2_test = train_test_split(x2, y2, test_size=0.3, random_state=42)"
   ]
  },
  {
   "cell_type": "code",
   "execution_count": 160,
   "metadata": {},
   "outputs": [],
   "source": [
    "# Pattern Binary Classifier\n",
    "\n",
    "pat_cls = fcalc.classifier.PatternBinaryClassifier(x2_train.values, y2_train.to_numpy(), method=\"ratio-support\",  alpha=0)"
   ]
  },
  {
   "cell_type": "code",
   "execution_count": 161,
   "metadata": {},
   "outputs": [
    {
     "name": "stdout",
     "output_type": "stream",
     "text": [
      "<bound method PatternBinaryClassifier.predict of <fcalc.classifier.PatternBinaryClassifier object at 0x00000262F9922160>>\n"
     ]
    }
   ],
   "source": [
    "pat_cls.predict(x2_test.values)\n",
    "print(pat_cls.predict)"
   ]
  },
  {
   "cell_type": "code",
   "execution_count": 162,
   "metadata": {},
   "outputs": [
    {
     "name": "stdout",
     "output_type": "stream",
     "text": [
      "accuracy: 0.721\n",
      "f1 score: 0.7086\n"
     ]
    }
   ],
   "source": [
    "print(\"accuracy:\",round(accuracy_score(y2_test, pat_cls.predictions),4))\n",
    "print(\"f1 score:\",round(f1_score(y2_test, pat_cls.predictions, average = 'macro'),4))"
   ]
  },
  {
   "cell_type": "markdown",
   "metadata": {},
   "source": [
    "# Breast Cancer Dataset"
   ]
  },
  {
   "cell_type": "code",
   "execution_count": 163,
   "metadata": {},
   "outputs": [],
   "source": [
    "data3 = pd.read_csv(r'https://raw.githubusercontent.com/OscarL7/Big-Homework-OSDA/main/breast_cancer.csv')\n",
    "data3['y'] = [x == 'M' for x in data3['y']]\n",
    "\n",
    "data3['area_mean143_600'] = data3['x.area_mean'].apply(lambda x: 1 if 143 <= x <= 600.9 else 0)\n",
    "data3['area_mean601_1200'] = data3['x.area_mean'].apply(lambda x: 1 if 601 <= x <= 1200.9 else 0)\n",
    "data3['area_mean1201_1900'] = data3['x.area_mean'].apply(lambda x: 1 if 1201 <= x <= 1900.9 else 0)\n",
    "data3['area_mean1901_2502'] = data3['x.area_mean'].apply(lambda x: 1 if 1901 <= x <= 2501 else 0)\n",
    "\n",
    "\n",
    "data3['radius_mean6_14'] = data3['x.radius_mean'].apply(lambda x: 1 if 6.0 <= x <= 14.9 else 0)\n",
    "data3['radius_mean15_22'] = data3['x.radius_mean'].apply(lambda x: 1 if 15.0 <= x <= 22.9 else 0)\n",
    "data3['radius_mean23_29'] = data3['x.radius_mean'].apply(lambda x: 1 if 23.0 <= x <= 29.0 else 0)\n",
    "\n",
    "\n",
    "data3['texture_mean9_19'] = data3['x.texture_mean'].apply(lambda x: 1 if 9.71 <= x <= 19.9 else 0)\n",
    "data3['texture_mean20_29'] = data3['x.texture_mean'].apply(lambda x: 1 if 20.0 <= x <= 29.9 else 0)\n",
    "data3['texture_mean30_39'] = data3['x.texture_mean'].apply(lambda x: 1 if 30.0 <= x <= 39.28 else 0)\n",
    "\n",
    "data3['concavity_mean'] = data3['x.concavity_mean'].apply(lambda x: 1 if 0.0 <= x <= 0.22 else 0)\n",
    "data3['concavity_mean'] = data3['x.concavity_mean'].apply(lambda x: 1 if 0.23 <= x <= 0.42 else 0)\n",
    "\n",
    "bdata3 = data3.drop(['Unnamed: 0', 'x.radius_mean', 'x.texture_mean', 'x.perimeter_mean',\n",
    "       'x.area_mean', 'x.smoothness_mean', 'x.compactness_mean',\n",
    "       'x.concavity_mean', 'x.concave_pts_mean', 'x.symmetry_mean',\n",
    "       'x.fractal_dim_mean', 'x.radius_se', 'x.texture_se', 'x.perimeter_se',\n",
    "       'x.area_se', 'x.smoothness_se', 'x.compactness_se', 'x.concavity_se',\n",
    "       'x.concave_pts_se', 'x.symmetry_se', 'x.fractal_dim_se',\n",
    "       'x.radius_worst', 'x.texture_worst', 'x.perimeter_worst',\n",
    "       'x.area_worst', 'x.smoothness_worst', 'x.compactness_worst',\n",
    "       'x.concavity_worst', 'x.concave_pts_worst', 'x.symmetry_worst',\n",
    "       'x.fractal_dim_worst'], axis=1)\n",
    "\n"
   ]
  },
  {
   "cell_type": "code",
   "execution_count": 164,
   "metadata": {},
   "outputs": [],
   "source": [
    "x3 = bdata3.drop('y', axis=1)\n",
    "y3 = bdata3['y']\n",
    "\n",
    "x3_train, x3_test, y3_train, y3_test = train_test_split(x3, y3, test_size=0.3, random_state=42)"
   ]
  },
  {
   "cell_type": "code",
   "execution_count": 192,
   "metadata": {},
   "outputs": [],
   "source": [
    "# Binarized Binary Classifier\n",
    "\n",
    "bin_cls = fcalc.classifier.BinarizedBinaryClassifier(x3_train.values, y3_train.to_numpy(), method=\"standard\",  alpha=0)"
   ]
  },
  {
   "cell_type": "code",
   "execution_count": 193,
   "metadata": {},
   "outputs": [
    {
     "name": "stdout",
     "output_type": "stream",
     "text": [
      "[0. 0. 0. 1. 1. 1. 1. 0. 0. 1. 0. 0. 0. 0. 1. 0. 1. 1. 0. 1. 1. 0. 0. 0.\n",
      " 1. 0. 1. 0. 0. 0. 1. 0. 1. 1. 0. 1. 0. 0. 0. 0. 0. 0. 0. 0. 0. 0. 1. 1.\n",
      " 1. 0. 0. 0. 0. 1. 0. 1. 0. 0. 0. 0. 0. 0. 1. 1. 0. 0. 0. 0. 0. 0. 0. 0.\n",
      " 1. 0. 1. 1. 0. 0. 0. 0. 0. 0. 0. 0. 0. 0. 0. 1. 1. 0. 0. 0. 1. 1. 0. 1.\n",
      " 1. 0. 0. 1. 0. 0. 0. 1. 1. 1. 0. 1. 0. 1. 0. 0. 1. 0. 0. 0. 0. 0. 0. 0.\n",
      " 0. 0. 0. 1. 0. 1. 0. 0. 0. 0. 0. 0. 0. 0. 0. 0. 0. 0. 0. 0. 1. 0. 0. 0.\n",
      " 1. 1. 0. 0. 0. 1. 0. 0. 0. 0. 0. 0. 0. 1. 1. 1. 0. 0. 0. 0. 1. 1. 0. 1.\n",
      " 0. 1. 0.]\n"
     ]
    }
   ],
   "source": [
    "bin_cls.predict(x3_test.values)\n",
    "print(bin_cls.predictions)"
   ]
  },
  {
   "cell_type": "code",
   "execution_count": 194,
   "metadata": {},
   "outputs": [
    {
     "name": "stdout",
     "output_type": "stream",
     "text": [
      "0.8771929824561403\n",
      "0.8173913043478261\n"
     ]
    }
   ],
   "source": [
    "print(accuracy_score(y3_test, bin_cls.predictions))\n",
    "print(f1_score(y3_test, bin_cls.predictions))"
   ]
  },
  {
   "cell_type": "markdown",
   "metadata": {},
   "source": [
    "### Pattern Binary Classifier"
   ]
  },
  {
   "cell_type": "code",
   "execution_count": null,
   "metadata": {},
   "outputs": [],
   "source": [
    "nbdata3 = pd.read_csv(r'https://raw.githubusercontent.com/OscarL7/Big-Homework-OSDA/main/breast_cancer.csv')\n",
    "nbdata3['y'] = [x == 'M' for x in nbdata3['y']]\n",
    "\n",
    "x3 = nbdata3.drop('y', axis=1)\n",
    "y3 = nbdata3['y']\n",
    "\n",
    "x3_train, x3_test, y3_train, y3_test = train_test_split(x3, y3, test_size=0.3, random_state=42)"
   ]
  },
  {
   "cell_type": "code",
   "execution_count": null,
   "metadata": {},
   "outputs": [],
   "source": [
    "# Pattern Binary Classifier\n",
    "pat_cls = fcalc.classifier.PatternBinaryClassifier(x3_train.values, y3_train.to_numpy(), \n",
    "                                             categorical=np.arange(x3_train.shape[1]), method=\"ratio-support\",  alpha=1)"
   ]
  },
  {
   "cell_type": "code",
   "execution_count": null,
   "metadata": {},
   "outputs": [],
   "source": [
    "pat_cls.predict(x3_test.values)"
   ]
  },
  {
   "cell_type": "code",
   "execution_count": null,
   "metadata": {},
   "outputs": [
    {
     "name": "stdout",
     "output_type": "stream",
     "text": [
      "0.6842105263157895\n",
      "0.679375\n"
     ]
    }
   ],
   "source": [
    "print(accuracy_score(y3_test, pat_cls.predictions))\n",
    "print(f1_score(y3_test, pat_cls.predictions, average = 'macro'))"
   ]
  }
 ],
 "metadata": {
  "kernelspec": {
   "display_name": "env_rw",
   "language": "python",
   "name": "python3"
  },
  "language_info": {
   "codemirror_mode": {
    "name": "ipython",
    "version": 3
   },
   "file_extension": ".py",
   "mimetype": "text/x-python",
   "name": "python",
   "nbconvert_exporter": "python",
   "pygments_lexer": "ipython3",
   "version": "3.9.6"
  }
 },
 "nbformat": 4,
 "nbformat_minor": 2
}
